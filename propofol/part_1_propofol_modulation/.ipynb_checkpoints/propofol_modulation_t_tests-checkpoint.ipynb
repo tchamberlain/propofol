{
 "cells": [
  {
   "cell_type": "code",
   "execution_count": 1,
   "id": "7434ce32",
   "metadata": {},
   "outputs": [],
   "source": [
    "import pandas as pd\n",
    "import numpy as np\n",
    "from statsmodels.formula.api import ols\n",
    "from scipy import stats\n",
    "import matplotlib.pyplot as plt\n",
    "import seaborn as sns\n",
    "from propofol.utils.nodes_to_drop import nodes_to_drop\n",
    "from propofol.utils.calculate_net_strength import load_network_df, run_t_tests\n",
    "\n",
    "%load_ext autoreload\n",
    "%autoreload 2"
   ]
  },
  {
   "cell_type": "code",
   "execution_count": 2,
   "id": "5e786ccf",
   "metadata": {},
   "outputs": [],
   "source": [
    "def format_results(res, n):\n",
    "    r_val = (res[0]).round(5)\n",
    "    p_val = (res[1]).round(5)\n",
    "    n_minus_1 = n - 1\n",
    "\n",
    "    return f't_{n_minus_1} r = {r_val}, p = {p_val} \\n'"
   ]
  },
  {
   "cell_type": "code",
   "execution_count": 3,
   "id": "b0318d16",
   "metadata": {},
   "outputs": [],
   "source": [
    "def run_all_t_tests(df):\n",
    "    for task in ['rest', 'movie']:\n",
    "        for network in ['pos_network', 'neg_network']:\n",
    "            res, n = run_t_tests(df, task=task, network=network)\n",
    "            print(format_results(res, n))\n"
   ]
  },
  {
   "cell_type": "markdown",
   "id": "1cdb7ed8",
   "metadata": {},
   "source": [
    "# run t-tests with all nodes"
   ]
  },
  {
   "cell_type": "code",
   "execution_count": 4,
   "id": "43c2b309",
   "metadata": {},
   "outputs": [],
   "source": [
    "# grab a data frame containing the network strenght values for each condition\n",
    "df = load_network_df(data_dir = 'censor_frames', \n",
    "                           use_greene=False, \n",
    "                           nodes_to_drop =None)\n",
    "\n",
    "# limit df to only runs with less than 50% censored motion\n",
    "df = df[df['fraction censored per run']<.5]"
   ]
  },
  {
   "cell_type": "code",
   "execution_count": 5,
   "id": "04bfd758",
   "metadata": {},
   "outputs": [
    {
     "name": "stdout",
     "output_type": "stream",
     "text": [
      "pos_network result for task: rest\n",
      "t_9 r = 3.2205, p = 0.0105 \n",
      "\n",
      "neg_network result for task: rest\n",
      "t_9 r = -4.0946, p = 0.0027 \n",
      "\n",
      "pos_network result for task: movie\n",
      "t_9 r = 2.4991, p = 0.0339 \n",
      "\n",
      "neg_network result for task: movie\n",
      "t_9 r = -3.825, p = 0.0041 \n",
      "\n"
     ]
    }
   ],
   "source": [
    "run_all_t_tests(df)"
   ]
  },
  {
   "cell_type": "markdown",
   "id": "ab2e1e8d",
   "metadata": {},
   "source": [
    "# run t-tests dropping nodes where ANY scan is missing that node"
   ]
  },
  {
   "cell_type": "code",
   "execution_count": 6,
   "id": "84f0e865",
   "metadata": {},
   "outputs": [],
   "source": [
    "# grab a data frame containing the network strenght values for each condition\n",
    "# this time dropping nodes missing in any scan\n",
    "df = load_network_df(data_dir = 'censor_frames', \n",
    "                           use_greene=False, \n",
    "                           nodes_to_drop=nodes_to_drop)\n",
    "# limit df to only runs with less than 50% censored motion\n",
    "df = df[df['fraction censored per run']<.5]"
   ]
  },
  {
   "cell_type": "code",
   "execution_count": 7,
   "id": "09d4e104",
   "metadata": {},
   "outputs": [
    {
     "name": "stdout",
     "output_type": "stream",
     "text": [
      "pos_network result for task: rest\n",
      "t_9 r = 3.2238, p = 0.0104 \n",
      "\n",
      "neg_network result for task: rest\n",
      "t_9 r = -3.9837, p = 0.0032 \n",
      "\n",
      "pos_network result for task: movie\n",
      "t_9 r = 2.6159, p = 0.028 \n",
      "\n",
      "neg_network result for task: movie\n",
      "t_9 r = -4.0139, p = 0.003 \n",
      "\n"
     ]
    }
   ],
   "source": [
    "run_all_t_tests(df)"
   ]
  },
  {
   "cell_type": "markdown",
   "id": "ac64c90d",
   "metadata": {},
   "source": [
    "# run t-tests after regressing out motion \n",
    "## motion = fraction censored frames  + average censored motion "
   ]
  },
  {
   "cell_type": "code",
   "execution_count": 8,
   "id": "afe4100c",
   "metadata": {},
   "outputs": [
    {
     "name": "stdout",
     "output_type": "stream",
     "text": [
      "pos_network result for task: rest\n",
      "t_9 r = 3.5627, p = 0.0061 \n",
      "\n",
      "neg_network result for task: rest\n",
      "t_9 r = -2.3386, p = 0.0441 \n",
      "\n",
      "pos_network result for task: movie\n",
      "t_9 r = 2.7262, p = 0.0234 \n",
      "\n",
      "neg_network result for task: movie\n",
      "t_9 r = -3.5873, p = 0.0059 \n",
      "\n"
     ]
    }
   ],
   "source": [
    "df = load_network_df(data_dir = 'censor_frames', \n",
    "                    use_greene=False, \n",
    "                    nodes_to_drop =None)\n",
    "df = df[df['fraction censored per run']<.5]\n",
    "\n",
    "df['frac_censored'] = df['fraction censored per run']\n",
    "mod_neg = ols(f'neg_network ~ frac_censored + motion', data=df, )\n",
    "results_neg = mod_neg.fit()\n",
    "df['neg_network'] = results_neg.resid\n",
    "\n",
    "mod_pos = ols(f'pos_network ~ frac_censored + motion', data=df, )\n",
    "results_pos = mod_pos.fit()\n",
    "df['pos_network'] = results_pos.resid\n",
    "\n",
    "\n",
    "# running the t-tests, but using the residuals after regressing out motion\n",
    "run_all_t_tests(df)"
   ]
  },
  {
   "cell_type": "markdown",
   "id": "4b835399",
   "metadata": {},
   "source": [
    "# run t-tests for greene fluid intelligence network"
   ]
  },
  {
   "cell_type": "code",
   "execution_count": 9,
   "id": "e892b767",
   "metadata": {},
   "outputs": [
    {
     "name": "stdout",
     "output_type": "stream",
     "text": [
      "pos_network result for task: rest\n",
      "t_9 r = 0.3167, p = 0.7587 \n",
      "\n",
      "neg_network result for task: rest\n",
      "t_9 r = -1.8852, p = 0.092 \n",
      "\n",
      "pos_network result for task: movie\n",
      "t_9 r = 0.616, p = 0.5532 \n",
      "\n",
      "neg_network result for task: movie\n",
      "t_9 r = -2.6295, p = 0.0274 \n",
      "\n"
     ]
    }
   ],
   "source": [
    "nodes_to_drop = [108, 114, 117, 128, 238, 242, 248, 249, 265]\n",
    "# grab a data frame containing the network strenght values for each condition\n",
    "df = load_network_df(data_dir = 'censor_frames', \n",
    "                     use_greene=True,\n",
    "                     greene_index=7,\n",
    "                     nodes_to_drop =nodes_to_drop)\n",
    "`4\n",
    "# limit df to only runs with less than 50% censored motion\n",
    "df = df[df['fraction censored per run']<.5]\n",
    "\n",
    "\n",
    "# running the t-tests, but using the residuals after regressing out motion\n",
    "run_all_t_tests(df)"
   ]
  }
 ],
 "metadata": {
  "kernelspec": {
   "display_name": "Python 3 (ipykernel)",
   "language": "python",
   "name": "python3"
  },
  "language_info": {
   "codemirror_mode": {
    "name": "ipython",
    "version": 3
   },
   "file_extension": ".py",
   "mimetype": "text/x-python",
   "name": "python",
   "nbconvert_exporter": "python",
   "pygments_lexer": "ipython3",
   "version": "3.9.7"
  }
 },
 "nbformat": 4,
 "nbformat_minor": 5
}
