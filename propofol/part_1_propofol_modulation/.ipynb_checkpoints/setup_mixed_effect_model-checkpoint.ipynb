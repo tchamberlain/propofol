{
 "cells": [
  {
   "cell_type": "code",
   "execution_count": 15,
   "id": "58e2264a",
   "metadata": {},
   "outputs": [
    {
     "name": "stdout",
     "output_type": "stream",
     "text": [
      "The autoreload extension is already loaded. To reload it, use:\n",
      "  %reload_ext autoreload\n"
     ]
    }
   ],
   "source": [
    "import pandas as pd\n",
    "import numpy as np\n",
    "from statsmodels.formula.api import ols\n",
    "from scipy import stats\n",
    "import matplotlib.pyplot as plt\n",
    "import seaborn as sns\n",
    "\n",
    "from propofol.utils.calculate_net_strength import load_network_df\n",
    "\n",
    "%load_ext autoreload\n",
    "%autoreload 2"
   ]
  },
  {
   "cell_type": "markdown",
   "id": "83ce3462",
   "metadata": {},
   "source": [
    "# save csv for mixed effects with saCPM net strength scores"
   ]
  },
  {
   "cell_type": "code",
   "execution_count": 16,
   "id": "2e703fba",
   "metadata": {},
   "outputs": [],
   "source": [
    "df = load_network_df(data_dir = 'censor_frames', \n",
    "                    use_greene=False, \n",
    "                    nodes_to_drop =None)\n",
    "df = df[df['fraction censored per run']<.5]\n",
    "\n",
    "df.loc[df['sedation_level']=='01', 'state'] = 'awake'\n",
    "df.loc[df['sedation_level']=='02', 'state'] = 'mild'\n",
    "df.loc[df['sedation_level']=='03', 'state'] = 'deep'\n",
    "df.loc[df['sedation_level']=='04', 'state'] = 'recovery'\n",
    "\n",
    "df['high'] = (df['pos_network']-df['pos_network'].mean())/df['pos_network'].std()\n",
    "df['low'] = (df['neg_network']-df['neg_network'].mean())/df['neg_network'].std()\n",
    "\n",
    "\n",
    "df.to_csv('./lme_saCPM.csv')"
   ]
  },
  {
   "cell_type": "markdown",
   "id": "abf34de6",
   "metadata": {},
   "source": [
    "# save csv for mixed effects with saCPM net strength scores (but regressing out motion)"
   ]
  },
  {
   "cell_type": "code",
   "execution_count": 17,
   "id": "b2a8ee46",
   "metadata": {},
   "outputs": [],
   "source": [
    "df = load_network_df(data_dir = 'censor_frames', \n",
    "                           use_greene=False, \n",
    "                           nodes_to_drop =None)\n",
    "df = df[df['fraction censored per run']<.5]\n",
    "\n",
    "df['frac_censored'] = df['fraction censored per run']\n",
    "\n",
    "mod2 = ols(f'neg_network ~ frac_censored + motion', data=df, )\n",
    "results2 = mod2.fit()\n",
    "df['neg_network_resid'] = results2.resid\n",
    "\n",
    "mod2 = ols(f'pos_network ~ frac_censored + motion', data=df, )\n",
    "results2 = mod2.fit()\n",
    "df['pos_network_resid'] = results2.resid\n",
    "\n",
    "\n",
    "df.loc[df['sedation_level']=='01', 'state'] = 'awake'\n",
    "df.loc[df['sedation_level']=='02', 'state'] = 'mild'\n",
    "df.loc[df['sedation_level']=='03', 'state'] = 'deep'\n",
    "df.loc[df['sedation_level']=='04', 'state'] = 'recovery'\n",
    "\n",
    "df['high'] = df['pos_network_resid']\n",
    "df['low'] = df['neg_network_resid']\n",
    "\n",
    "df.to_csv('./lme_saCPM_motion_control.csv')"
   ]
  },
  {
   "cell_type": "markdown",
   "id": "261211eb",
   "metadata": {},
   "source": [
    "# save csv for mixed effects with gF net strength scores"
   ]
  },
  {
   "cell_type": "code",
   "execution_count": 18,
   "id": "bcc19bca",
   "metadata": {},
   "outputs": [],
   "source": [
    "nodes_to_drop = [108, 114, 117, 128, 238, 242, 248, 249, 265]\n",
    "\n",
    "df = load_network_df(data_dir = 'censor_frames',\n",
    "                     use_greene=True, \n",
    "                     greene_index=7,\n",
    "                     nodes_to_drop=nodes_to_drop)\n",
    "\n",
    "df = df[df['fraction censored per run']<.5]"
   ]
  },
  {
   "cell_type": "code",
   "execution_count": 19,
   "id": "083906ad",
   "metadata": {},
   "outputs": [],
   "source": [
    "df.loc[df['sedation_level']=='01', 'state'] = 'awake'\n",
    "df.loc[df['sedation_level']=='02', 'state'] = 'mild'\n",
    "df.loc[df['sedation_level']=='03', 'state'] = 'deep'\n",
    "df.loc[df['sedation_level']=='04', 'state'] = 'recovery'\n",
    "\n",
    "\n",
    "df['high'] =  df['pos_network']\n",
    "df['low'] =  df['neg_network']\n",
    "df.to_csv('./lme_greene_gF.csv')"
   ]
  },
  {
   "cell_type": "code",
   "execution_count": null,
   "id": "8c06b176",
   "metadata": {},
   "outputs": [],
   "source": []
  }
 ],
 "metadata": {
  "kernelspec": {
   "display_name": "Python 3 (ipykernel)",
   "language": "python",
   "name": "python3"
  },
  "language_info": {
   "codemirror_mode": {
    "name": "ipython",
    "version": 3
   },
   "file_extension": ".py",
   "mimetype": "text/x-python",
   "name": "python",
   "nbconvert_exporter": "python",
   "pygments_lexer": "ipython3",
   "version": "3.9.7"
  }
 },
 "nbformat": 4,
 "nbformat_minor": 5
}
