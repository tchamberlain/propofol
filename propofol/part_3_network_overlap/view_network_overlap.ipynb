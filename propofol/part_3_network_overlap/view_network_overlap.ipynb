{
 "cells": [
  {
   "cell_type": "code",
   "execution_count": 117,
   "id": "fe43e546",
   "metadata": {},
   "outputs": [],
   "source": [
    "red = '#982462'\n",
    "blue = '#3C5FDA'"
   ]
  },
  {
   "cell_type": "code",
   "execution_count": 91,
   "id": "392ef346",
   "metadata": {},
   "outputs": [
    {
     "name": "stdout",
     "output_type": "stream",
     "text": [
      "The autoreload extension is already loaded. To reload it, use:\n",
      "  %reload_ext autoreload\n"
     ]
    }
   ],
   "source": [
    "%load_ext autoreload\n",
    "%reload_ext autoreload\n",
    "%autoreload 1\n",
    "\n",
    "from fc_utils.from_node_to_network import conv_to_network, check_symmetric\n",
    "from nilearn.plotting import plot_connectome, view_connectome, view_markers\n",
    "from scipy.io import loadmat, matlab\n",
    "import numpy as np\n",
    "import pandas as pd\n",
    "import scipy.io as sio\n",
    "import seaborn as sns\n",
    "import matlab.engine\n",
    "import scipy\n",
    "from fc_utils.get_edge_vals import get_edge_vals\n",
    "from fc_utils.get_permutation_p_value import get_permutation_p_value\n",
    "from fc_utils.load_mat import load_mat_modified, symmetrize\n",
    "\n",
    "import matplotlib.pyplot as plt\n",
    "import numpy as np\n",
    "import matplotlib.colors\n",
    "import os\n",
    "from random import shuffle"
   ]
  },
  {
   "cell_type": "code",
   "execution_count": 122,
   "id": "c72e59d8",
   "metadata": {},
   "outputs": [],
   "source": [
    "def get_intersection_graph(cpm_edges,  propofol_filename,  which='pos'):\n",
    "    propofol_mat = get_conmat(propofol_filename)\n",
    "    \n",
    "    # only keep intersection\n",
    "    intersect = propofol_mat * cpm_edges\n",
    "    \n",
    "    # turn 0s back to nans so they don't show up in plot\n",
    "    intersect[intersect==0] = np.nan\n",
    "\n",
    "    p = create_plot_from_adj(adj_mat=intersect,  which=which)\n",
    "    return p"
   ]
  },
  {
   "cell_type": "code",
   "execution_count": 106,
   "id": "8ce529e4",
   "metadata": {},
   "outputs": [],
   "source": [
    "def get_intersection_with_pval(cpm_edges, \n",
    "                               file_name=f'./thresh_3_1/rest/rest_high_network_thresh_3_1_sig_05.mat'):\n",
    "    # grab rest conmat\n",
    "    prop_mat = get_conmat(file_name)\n",
    "    # turn the nans to 0's\n",
    "    prop_mat = np.nan_to_num(prop_mat)\n",
    "    # make conmat list of ones and zeros instead of t-stats\n",
    "    prop_mat = prop_mat.astype(bool).astype(int)\n",
    "    \n",
    "    # turn the symmetric matrices to a flat list of vals\n",
    "    prop_flat  = get_edge_vals(prop_mat)\n",
    "    cpm_flat = get_edge_vals(cpm_edges)\n",
    "    \n",
    "    intersect = prop_flat.astype(bool) & cpm_flat.astype(bool)\n",
    "    \n",
    "    \n",
    "    \n",
    "    intersect = intersect.astype(float)\n",
    "    intersect_sum = intersect.sum()\n",
    "    intersect_percent = intersect_sum / np.nansum(cpm_flat)\n",
    "\n",
    "    # calculate null\n",
    "    random_intersections = []\n",
    "    for i in range(1000):\n",
    "        np.random.shuffle(prop_flat)\n",
    "        rand_intersect = prop_flat.astype(bool) & cpm_flat.astype(bool)\n",
    "        rand_intersect = rand_intersect.astype(float)\n",
    "        random_intersections.append(rand_intersect.sum()/ np.nansum(cpm_flat))\n",
    "        \n",
    "    p_val = get_permutation_p_value([intersect_percent], random_intersections)\n",
    "\n",
    "    # getting a random network of size of cpm net\n",
    "    # return the sum of intersect, the total number of edges in cpm net, and the p-val of intersection\n",
    "    return intersect_sum, np.nansum(cpm_flat), p_val, random_intersections"
   ]
  },
  {
   "cell_type": "code",
   "execution_count": 94,
   "id": "efbff260",
   "metadata": {},
   "outputs": [],
   "source": [
    "# todo - only need one of these in utils!\n",
    "def load_greene_networks():\n",
    "    # this function loads the greene networks,\n",
    "    # and turns the 259 x 259 matrix into a 268 x 268 matrix\n",
    "    # by placing rows of nans where there are missing nodes\n",
    "\n",
    "    # load greene net original \n",
    "    greeneCPM_load = sio.loadmat('/Users/taylorchamberlain/code/fc_ts_utils/fc_utils/network_definitions/gFnets_p01_hcp.mat')\n",
    "    gf_posedges = greeneCPM_load['task_pos_edge'][7,:,:]\n",
    "    gf_negedges = greeneCPM_load['task_neg_edge'][7,:,:]\n",
    "\n",
    "    nodes_missing_in_green = [108, 114, 117, 128, 238, 242, 248, 249, 265]\n",
    "\n",
    "    # convert greene into 268 x 268\n",
    "    missing_so_far_i, missing_so_far_j = 0, 0\n",
    "    greene_268_pos = np.full([268, 268], np.nan)\n",
    "    greene_268_neg = np.full([268, 268], np.nan)\n",
    "\n",
    "    for i in range(268):\n",
    "        if i in nodes_missing_in_green:\n",
    "            missing_so_far_i += 1\n",
    "        missing_so_far_j = 0\n",
    "        for j in range(268):\n",
    "            if j in nodes_missing_in_green:\n",
    "                missing_so_far_j+=1\n",
    "            if i not in nodes_missing_in_green and j not in nodes_missing_in_green:\n",
    "                greene_268_pos[i, j] = gf_posedges[i-missing_so_far_i, j-missing_so_far_j]\n",
    "                greene_268_neg[i, j] = gf_negedges[i-missing_so_far_i, j-missing_so_far_j]\n",
    "\n",
    "\n",
    "    greene_268_pos = np.nan_to_num(greene_268_pos)\n",
    "    greene_268_neg = np.nan_to_num(greene_268_neg)\n",
    "    return greene_268_pos, greene_268_neg"
   ]
  },
  {
   "cell_type": "code",
   "execution_count": 2,
   "id": "301ae7b1",
   "metadata": {},
   "outputs": [],
   "source": [
    "def normalize(matrix):\n",
    "    return (matrix - np.nanmean(matrix)) / np.nanstd(matrix)"
   ]
  },
  {
   "cell_type": "code",
   "execution_count": 118,
   "id": "db23fd5b",
   "metadata": {},
   "outputs": [],
   "source": [
    "def get_conmat(file):\n",
    "    loaded = load_mat_modified(file)\n",
    "    test_stat = loaded['nbs']['NBS']['test_stat']\n",
    "\n",
    "    e = loaded['nbs']['NBS']['con_mat']\n",
    "    e = e.toarray()\n",
    "    adjacency = symmetrize(e)\n",
    "    \n",
    "    test = test_stat.copy()\n",
    "    test[~adjacency.astype(bool)]=np.nan\n",
    "    return test\n",
    "\n",
    "\n",
    "def get_test_stat(file):\n",
    "    loaded = load_mat_modified(file)\n",
    "    test_stat = loaded['nbs']['NBS']['test_stat']\n",
    "\n",
    "    return test_stat\n",
    "\n",
    "\n",
    "def get_cmap(which='pos'):\n",
    "    norm = matplotlib.colors.Normalize(-1,1)\n",
    "\n",
    "    if which== 'neg':\n",
    "        colors = [[norm(-1.0), blue], [norm(1.0), blue]]\n",
    "    else:\n",
    "        colors = [[norm(-1.0), red], [norm(1.0), red]] \n",
    "\n",
    "    cmap = matplotlib.colors.LinearSegmentedColormap.from_list(\"\", colors)\n",
    "    return cmap"
   ]
  },
  {
   "cell_type": "code",
   "execution_count": 29,
   "id": "6a24e169",
   "metadata": {},
   "outputs": [],
   "source": [
    "def create_plot_from_adj(adj_mat=None, which='pos'):\n",
    "    conmat = adj_mat\n",
    "    \n",
    "    # you grab the nodes to keep\n",
    "    keep = []\n",
    "    for i in range(268):\n",
    "        for j in range(268):\n",
    "            if not np.isnan(conmat[i,j]) and conmat[i,j]!=0:\n",
    "                keep.append(i)\n",
    "                keep.append(j)\n",
    "\n",
    "    keep  = list(set(keep))\n",
    "\n",
    "    # exclude edges that are not in the network \n",
    "    conmat = conmat[keep, :]\n",
    "    conmat = conmat[:, keep]\n",
    "    node_color = [(.5, .5, .5) for i in range(len(keep))]\n",
    "\n",
    "    if 'pos' ==which:\n",
    "        cmap = get_cmap(which='pos')\n",
    "    else:\n",
    "        cmap = get_cmap(which='neg')\n",
    "\n",
    "    # get list of shen nodes that were keeping, that are in the network\n",
    "    shen268_labels = pd.read_csv('/Users/taylorchamberlain/code/fc_ts_utils/fc_utils/network_definitions/xilin_268parc_labels.csv')    \n",
    "    shen268_labels.drop(columns=['IGNORE'], inplace=True)\n",
    "    shen268_labels = shen268_labels.reset_index()\n",
    "    final_nodes = shen268_labels[shen268_labels['index'].isin(keep)]\n",
    "\n",
    "    return view_connectome(normalize(conmat), \n",
    "                           final_nodes[['MNI_X', 'MNI_Y', 'MNI_Z']], \n",
    "                           node_size=6,\n",
    "                            colorbar_fontsize=20,\n",
    "                            symmetric_cmap=True,\n",
    "                            edge_cmap=cmap,\n",
    "                            node_color=node_color,  \n",
    "                            linewidth=11)\n"
   ]
  },
  {
   "cell_type": "code",
   "execution_count": 120,
   "id": "5355b2fd",
   "metadata": {},
   "outputs": [],
   "source": [
    "def create_plot(nbs_output_file_name=None):\n",
    "    conmat = get_conmat(nbs_output_file_name)\n",
    "\n",
    "    # you grab the nodes to keep\n",
    "    keep = []\n",
    "    for i in range(268):\n",
    "        for j in range(268):\n",
    "            if not np.isnan(conmat[i,j]) and conmat[i,j]!=0:\n",
    "                keep.append(i)\n",
    "                keep.append(j)\n",
    "\n",
    "    keep  = list(set(keep))\n",
    "\n",
    "    # exclude edges that are not in the network \n",
    "    conmat = conmat[keep, :]\n",
    "    conmat = conmat[:, keep]\n",
    "\n",
    "    # get list of shen nodes that were keeping, that are in the network\n",
    "    shen268_labels = pd.read_csv('/Users/taylorchamberlain/code/fc_ts_utils/fc_utils/network_definitions/xilin_268parc_labels.csv')\n",
    "    shen268_labels.drop(columns=['IGNORE'], inplace=True)\n",
    "    shen268_labels = shen268_labels.reset_index()\n",
    "    final_nodes = shen268_labels[shen268_labels['index'].isin(keep)]\n",
    "\n",
    "    node_color = [(.5, .5, .5) for i in range(len(keep))]\n",
    "    \n",
    "    if 'pos' in nbs_output_file_name:\n",
    "        cmap = get_cmap(which='pos')\n",
    "    else:\n",
    "        cmap = get_cmap(which='neg')\n",
    "\n",
    "    view = view_connectome(normalize(conmat), \n",
    "                           final_nodes[['MNI_X', 'MNI_Y', 'MNI_Z']], \n",
    "                           node_size=6,\n",
    "                            colorbar_fontsize=20,\n",
    "                            symmetric_cmap=False,\n",
    "                            edge_cmap=cmap,\n",
    "                            node_color=node_color,  \n",
    "                            linewidth=11)\n",
    "    return view"
   ]
  },
  {
   "cell_type": "markdown",
   "id": "839d1505",
   "metadata": {},
   "source": [
    "# Create Figure 3 -> Glass brain plots of propofol networks + overlap"
   ]
  },
  {
   "cell_type": "markdown",
   "id": "9c534d79",
   "metadata": {},
   "source": [
    "### _Fig3_  - plot  `propofol` network (p<.001)"
   ]
  },
  {
   "cell_type": "code",
   "execution_count": 131,
   "id": "ad999897",
   "metadata": {},
   "outputs": [],
   "source": [
    "# POSITIVE\n",
    "p  = create_plot(nbs_output_file_name = './nbs_files/rest_pos_001_sig_05.mat')\n",
    "p.save_as_html('../figures/Figure3/pos_propofol_001.html')\n",
    "\n",
    "\n",
    "# NEGATIVE\n",
    "p = create_plot(nbs_output_file_name = './nbs_files/rest_neg_001_sig_05.mat')\n",
    "p.save_as_html('../figures/Figure3/neg_propofol_001.html')\n"
   ]
  },
  {
   "cell_type": "markdown",
   "id": "bead15ba",
   "metadata": {},
   "source": [
    "### _Fig3_  - plot `propofol`-`saCPM` overlap ( p<.01 )"
   ]
  },
  {
   "cell_type": "code",
   "execution_count": 132,
   "id": "7c55cc13",
   "metadata": {},
   "outputs": [],
   "source": [
    "# load sust attn net\n",
    "saCPM_posedges = np.loadtxt('/Users/taylorchamberlain/code/fc_ts_utils/fc_utils/network_definitions/sa_cpm/sa_cpm_pos_mask.txt')\n",
    "saCPM_negedges = np.loadtxt('/Users/taylorchamberlain/code/fc_ts_utils/fc_utils/network_definitions/sa_cpm/sa_cpm_neg_mask.txt')"
   ]
  },
  {
   "cell_type": "code",
   "execution_count": 133,
   "id": "e525340a",
   "metadata": {},
   "outputs": [],
   "source": [
    "# POSITIVE\n",
    "p = get_intersection_graph(saCPM_posedges, './nbs_files/rest_pos_01_sig_05.mat')\n",
    "p.save_as_html('../figures/Figure3/OVERLAP_pos_saCPM_propofol_01.html')\n"
   ]
  },
  {
   "cell_type": "code",
   "execution_count": 134,
   "id": "cbe0c1ef",
   "metadata": {},
   "outputs": [],
   "source": [
    "# NEGATIVE\n",
    "p = get_intersection_graph(saCPM_negedges, './nbs_files/rest_neg_01_sig_05.mat', which='neg')\n",
    "p.save_as_html('../figures/Figure3/OVERLAP_neg_saCPM_propofol_01.html')\n"
   ]
  },
  {
   "cell_type": "markdown",
   "id": "82a3ed61",
   "metadata": {},
   "source": [
    "###  _Fig3_  - `propofol`-`gfCPM` overlap ( p<.01 )"
   ]
  },
  {
   "cell_type": "code",
   "execution_count": 135,
   "id": "7bf3a9ce",
   "metadata": {},
   "outputs": [],
   "source": [
    "# load fluid intelligence net\n",
    "gfCPM_posedges = load_greene_networks()[0]\n",
    "gfCPM_negedges = load_greene_networks()[1]"
   ]
  },
  {
   "cell_type": "code",
   "execution_count": 136,
   "id": "c4034604",
   "metadata": {},
   "outputs": [],
   "source": [
    "# POSITIVE\n",
    "p = get_intersection_graph(gfCPM_posedges, './nbs_files/rest_pos_01_sig_05.mat')\n",
    "p.save_as_html('../figures/Figure3/OVERLAP_pos_gfCPM_propofol_01.html')\n"
   ]
  },
  {
   "cell_type": "code",
   "execution_count": 137,
   "id": "64bb36d8",
   "metadata": {},
   "outputs": [],
   "source": [
    "# NEGATIVE\n",
    "p = get_intersection_graph(gfCPM_negedges, './nbs_files/rest_neg_01_sig_05.mat', which='neg')\n",
    "p.save_as_html('../figures/Figure3/OVERLAP_neg_gfCPM_propofol_01.html')\n"
   ]
  },
  {
   "cell_type": "markdown",
   "id": "9dc169cb",
   "metadata": {},
   "source": [
    "# Create Figure 4 -> Bar graph of overlap"
   ]
  },
  {
   "cell_type": "markdown",
   "id": "e69cce2a",
   "metadata": {},
   "source": [
    "## calculate intersection at every p-value for all networks"
   ]
  },
  {
   "cell_type": "code",
   "execution_count": 107,
   "id": "72d5ef25",
   "metadata": {},
   "outputs": [],
   "source": [
    "def create_intersection_dataframe(saCPM_posedges, saCPM_negedges, gfCPM_posedges, gfCPM_negedges):\n",
    "    networks_names = ['sustained\\nattention', 'fluid\\nintelligence']\n",
    "    tasks = ['movie', 'rest']\n",
    "    thresh_levels = ['05', '01', '001']\n",
    "\n",
    "    networks = {\n",
    "        'sustained\\nattention':(saCPM_posedges, saCPM_negedges), \n",
    "        'fluid\\nintelligence': (gfCPM_posedges, gfCPM_negedges), \n",
    "    }\n",
    "    data = {\n",
    "        'net':[],\n",
    "        'thresh':[],\n",
    "        'which_nbs_which_cpm':[],\n",
    "        'task':[],\n",
    "        'intersect_percent':[], \n",
    "        'p_val':[],\n",
    "        'which_nbs':[],\n",
    "        'which_cpm':[],\n",
    "        'random_intersect': [],\n",
    "    }\n",
    "    for net in networks_names:\n",
    "        posedges, negedges = networks[net]\n",
    "        for task in tasks:\n",
    "            for thresh in thresh_levels:\n",
    "                for which_nbs in ['pos', 'neg']:\n",
    "                    nbs_file = f'./nbs_files/{task}_{which_nbs}_{thresh}_sig_05.mat'\n",
    "                    if os.path.exists(nbs_file):\n",
    "                        for which_net in ['pos', 'neg']:\n",
    "                            edges = posedges\n",
    "                            if which_net =='neg':\n",
    "                                edges = negedges\n",
    "                            intersect, possible_edges, p, random_intersect = get_intersection_with_pval(edges, \n",
    "                                                                                              file_name=nbs_file)\n",
    "                            data['net'].append(net)\n",
    "                            data['thresh'].append(thresh)\n",
    "                            data['which_nbs_which_cpm'].append(which_nbs + '_' + which_net)\n",
    "                            data['which_nbs'].append(which_nbs)\n",
    "                            data['which_cpm'].append(which_net)\n",
    "\n",
    "                            data['task'].append(task)\n",
    "                            data['random_intersect'].append(random_intersect)\n",
    "\n",
    "                            data['p_val'].append(p)\n",
    "                            data['intersect_percent'].append(intersect/possible_edges)\n",
    "\n",
    "\n",
    "    df = pd.DataFrame(data)\n",
    "    return df"
   ]
  },
  {
   "cell_type": "code",
   "execution_count": 113,
   "id": "9fa4e78d",
   "metadata": {},
   "outputs": [],
   "source": [
    "def make_bar_plots(df, which='pos'):\n",
    "    sns.despine()\n",
    "    sns.set(font_scale=1.5, style=\"white\")\n",
    "\n",
    "    plt.rc(\"axes.spines\", top=False, right=False)\n",
    "    fig, axes = plt.subplots(2,3,figsize=(10,10), sharey=True)\n",
    "    flat_ax = axes.flatten()\n",
    "    tasks = ['rest', 'movie']\n",
    "    thresh_levels  = ['05','01','001']\n",
    "    index = 0\n",
    "    fig.subplots_adjust(wspace=1)\n",
    "    for task_i, task in enumerate(tasks):\n",
    "\n",
    "        for which_i, which in enumerate([which]):\n",
    "\n",
    "            for thresh_i, thresh in enumerate(thresh_levels):\n",
    "                ax  =flat_ax[index]\n",
    "                t = df[df['which_nbs']==which]\n",
    "                t  = t[t['thresh']==thresh]\n",
    "                t  = t[t['task']==task]\n",
    "\n",
    "                if t.shape[0]>0:\n",
    "\n",
    "                    g = sns.barplot(data=t,\n",
    "                                    ci=None,\n",
    "                                    x='which_cpm', \n",
    "                                    hue='net', \n",
    "                                    y='intersect_percent',\n",
    "                                    ax=ax)\n",
    "                    g.get_legend().remove()\n",
    "\n",
    "                if task=='movie':\n",
    "                    ax.set_xlabel( 'p < .'+ str(thresh), size=28)\n",
    "                else:\n",
    "                    ax.set_xlabel( '')\n",
    "                ax.set_ylabel('')\n",
    "                ax.set_xticks([])\n",
    "                ax.set_ylim([0, .20])\n",
    "\n",
    "                if index==0 or index==3:\n",
    "                    ax.set_ylabel(task,  size=28)\n",
    "\n",
    "                index+=1\n",
    "                \n",
    "                \n",
    "                for i, bar in enumerate(ax.patches):                    \n",
    "                    if i ==1:\n",
    "                        bar.set_color('#33cccc')\n",
    "                        bar.set_edgecolor('white')\n",
    "\n",
    "                    elif i ==3:\n",
    "                        bar.set_color('#33cccc')\n",
    "                        bar.set_hatch('++')\n",
    "                        bar.set_edgecolor('white')\n",
    "                    elif i==0:\n",
    "                        bar.set_color('#ffa31a')\n",
    "                    elif i==2:\n",
    "                        bar.set_color('#ffa31a')\n",
    "                        bar.set_hatch('++')\n",
    "                        bar.set_edgecolor('white')\n",
    "                    plt.tight_layout()\n",
    "\n",
    "\n",
    "    return fig\n",
    "                        \n",
    "\n",
    "\n"
   ]
  },
  {
   "cell_type": "code",
   "execution_count": 108,
   "id": "728f82fc",
   "metadata": {},
   "outputs": [],
   "source": [
    "df = create_intersection_dataframe(saCPM_posedges, \n",
    "                                   saCPM_negedges, \n",
    "                                   gfCPM_posedges, \n",
    "                                   gfCPM_negedges)"
   ]
  },
  {
   "cell_type": "code",
   "execution_count": 114,
   "id": "c7bc4d69",
   "metadata": {},
   "outputs": [
    {
     "data": {
      "text/plain": [
       "<Figure size 432x288 with 0 Axes>"
      ]
     },
     "metadata": {},
     "output_type": "display_data"
    },
    {
     "data": {
      "image/png": "[encoded data removed]",
      "text/plain": [
       "<Figure size 720x720 with 6 Axes>"
      ]
     },
     "metadata": {},
     "output_type": "display_data"
    }
   ],
   "source": [
    "pos_bargraph = make_bar_plots(df, which='pos')\n",
    "# save to figures\n",
    "pos_bargraph.savefig('../figures/Figure4/pos_bargraph.png')"
   ]
  },
  {
   "cell_type": "code",
   "execution_count": 115,
   "id": "cee5b838",
   "metadata": {},
   "outputs": [
    {
     "data": {
      "text/plain": [
       "<Figure size 432x288 with 0 Axes>"
      ]
     },
     "metadata": {},
     "output_type": "display_data"
    },
    {
     "data": {
      "image/png": "[encoded data removed]",
      "text/plain": [
       "<Figure size 720x720 with 6 Axes>"
      ]
     },
     "metadata": {},
     "output_type": "display_data"
    }
   ],
   "source": [
    "neg_bargraph = make_bar_plots(df, which='neg')\n",
    "# save to figures\n",
    "neg_bargraph.savefig('../figures/Figure4/neg_bargraph.png')"
   ]
  },
  {
   "cell_type": "code",
   "execution_count": null,
   "id": "ca094410",
   "metadata": {},
   "outputs": [],
   "source": []
  }
 ],
 "metadata": {
  "kernelspec": {
   "display_name": "Python 3 (ipykernel)",
   "language": "python",
   "name": "python3"
  },
  "language_info": {
   "codemirror_mode": {
    "name": "ipython",
    "version": 3
   },
   "file_extension": ".py",
   "mimetype": "text/x-python",
   "name": "python",
   "nbconvert_exporter": "python",
   "pygments_lexer": "ipython3",
   "version": "3.9.7"
  }
 },
 "nbformat": 4,
 "nbformat_minor": 5
}
