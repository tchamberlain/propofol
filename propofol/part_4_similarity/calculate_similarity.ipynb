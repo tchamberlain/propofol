{
 "cells": [
  {
   "cell_type": "code",
   "execution_count": 75,
   "id": "02a701d9",
   "metadata": {},
   "outputs": [],
   "source": [
    "# To investigate how propofol sedation affects between-subject connectome similarity, participants’ fMRI time series were limited to 73 TRs per run to match the number of TRs per condition.\n",
    "# All nodes missing in any scan were excluded from analysis (30 in total). "
   ]
  },
  {
   "cell_type": "code",
   "execution_count": 76,
   "id": "f86c446c",
   "metadata": {},
   "outputs": [],
   "source": [
    "# We then calculated the Spearman correlation of each participant’s functional connectivity pattern for the awake resting-state scan with that of all other participants. \n",
    "# We averaged the Fisher-z transforms of these values to get a single similarity value per participant."
   ]
  },
  {
   "cell_type": "code",
   "execution_count": 2,
   "id": "eb547c49",
   "metadata": {},
   "outputs": [],
   "source": [
    "import os\n",
    "import random\n",
    "import numpy as np\n",
    "from scipy import stats\n",
    "import pandas as pd\n",
    "from fc_utils.load_ts import load_ts\n",
    "from fc_utils.load_fc import load_fc\n",
    "from fc_utils.get_edge_vals import get_edge_vals\n",
    "from propofol.utils.subjects import subjects\n",
    "from propofol.utils.nodes_to_drop import nodes_to_drop\n",
    "import pingouin as pg"
   ]
  },
  {
   "cell_type": "code",
   "execution_count": 11,
   "id": "bc18c9c2",
   "metadata": {},
   "outputs": [],
   "source": [
    "base_dir = '../data/censor_frames'\n",
    "\n",
    "\n",
    "def format_results(res, n):\n",
    "    r_val = (res[0]).round(5)\n",
    "    p_val = (res[1]).round(5)\n",
    "    n_minus_1 = n - 1\n",
    "\n",
    "    return f't_{n_minus_1} r = {r_val}, p = {p_val} \\n'"
   ]
  },
  {
   "cell_type": "code",
   "execution_count": 4,
   "id": "daff131c",
   "metadata": {},
   "outputs": [],
   "source": [
    "def get_subs_for_level(level):\n",
    "    mot = pd.read_csv('../data/ss_out_review_compiled/ss_out_review_compiled_censor_frames.csv')\n",
    "    rest = mot[(mot['run']==level)&(mot['task']=='rest')&(mot['fraction censored per run']<.5)]['sub'].values\n",
    "    rest = list(rest)\n",
    "    movie = mot[(mot['run']==level)&(mot['task']=='movie')&(mot['fraction censored per run']<.5)]['sub'].values\n",
    "    movie = list(movie)\n",
    "    return list(set(movie) & set(rest))"
   ]
  },
  {
   "cell_type": "code",
   "execution_count": 5,
   "id": "6835d080",
   "metadata": {},
   "outputs": [],
   "source": [
    "def get_subs_for_task(task):\n",
    "    mot = pd.read_csv('../data/ss_out_review_compiled/ss_out_review_compiled_censor_frames.csv')\n",
    "    awake = mot[(mot['run']==1)&(mot['task']==task)&(mot['fraction censored per run']<.5)]['sub'].values\n",
    "    awake = list(awake)\n",
    "    deep = mot[(mot['run']==3)&(mot['task']==task)&(mot['fraction censored per run']<.5)]['sub'].values\n",
    "    deep = list(deep)\n",
    "    return list(set(deep) & set(awake))"
   ]
  },
  {
   "cell_type": "code",
   "execution_count": 6,
   "id": "6d2a2101",
   "metadata": {},
   "outputs": [],
   "source": [
    "def get_fc_corr(fc1, fc2):\n",
    "    # turn FC matrix into a flat list of vals\n",
    "    vals_1 = get_edge_vals(fc1)\n",
    "    vals_2 = get_edge_vals(fc2)\n",
    "    \n",
    "    res = pg.corr(vals_1, vals_2, method=\"spearman\")\n",
    "    corr = float(res.r)\n",
    "    return corr\n",
    "\n",
    "    \n",
    "def get_sim_for_subject(sub_index, all_fc):\n",
    "    sim_to_other_subs = []\n",
    "    sub_i_fc = all_fc[sub_index]\n",
    "    num_subs = all_fc.shape[0]\n",
    "    \n",
    "    for sub_j_index in range(num_subs):\n",
    "        if sub_j_index != sub_index:\n",
    "            sub_j_fc = all_fc[sub_j_index]\n",
    "            sim = get_fc_corr(sub_i_fc, sub_j_fc)\n",
    "            sim_to_other_subs.append(sim)\n",
    "    return np.mean(sim_to_other_subs)\n",
    "    \n",
    "    \n",
    "def get_all_similarity_values(subs, task, sedation):\n",
    "    # first load all fc\n",
    "    all_fc = []\n",
    "    for sub in subs:\n",
    "        path =  f'{base_dir}/{sub}_01_{task}_{sedation}_LPI_000.netcc'\n",
    "        all_fc.append(load_fc(path, \n",
    "                              subset=[0, 73], \n",
    "                              nodes_to_drop=nodes_to_drop))\n",
    "    all_fc = np.array(all_fc)\n",
    "    \n",
    "    # get pairwise FC similarity for each subject\n",
    "    all_sim = []\n",
    "    for sub_index in range(len(subs)):\n",
    "        sim = get_sim_for_subject(sub_index, all_fc)\n",
    "        all_sim.append(sim)\n",
    "    return all_sim"
   ]
  },
  {
   "cell_type": "code",
   "execution_count": 82,
   "id": "76350efc",
   "metadata": {},
   "outputs": [],
   "source": [
    "def get_scan_length(sub, task, sedation_level):\n",
    "    ts = load_ts(f'../data/censor_frames/{sub}_01_{task}_{sedation_level}_LPI_000.netts')\n",
    "    return ts.shape[1]"
   ]
  },
  {
   "cell_type": "markdown",
   "id": "dedeba36",
   "metadata": {},
   "source": [
    "# effect of sedation on btwn-subject connectome similarity"
   ]
  },
  {
   "cell_type": "markdown",
   "id": "21b7c513",
   "metadata": {},
   "source": [
    "## running paired t-tests comparing similarity values for awake vs deep"
   ]
  },
  {
   "cell_type": "markdown",
   "id": "df3c0ca0",
   "metadata": {},
   "source": [
    "### during rest"
   ]
  },
  {
   "cell_type": "code",
   "execution_count": 83,
   "id": "68f17e63",
   "metadata": {},
   "outputs": [
    {
     "data": {
      "text/plain": [
       "Ttest_relResult(statistic=6.733715925978131, pvalue=8.520768359250115e-05)"
      ]
     },
     "execution_count": 83,
     "metadata": {},
     "output_type": "execute_result"
    }
   ],
   "source": [
    "useable = get_subs_for_task('rest')\n",
    "awake_vals = get_all_similarity_values(useable, 'rest', '01')\n",
    "deep_vals = get_all_similarity_values(useable, 'rest', '03')\n",
    "stats.ttest_rel(awake_vals, \n",
    "                deep_vals)"
   ]
  },
  {
   "cell_type": "markdown",
   "id": "3704ec31",
   "metadata": {},
   "source": [
    "### during movie"
   ]
  },
  {
   "cell_type": "code",
   "execution_count": 84,
   "id": "3daa6868",
   "metadata": {},
   "outputs": [
    {
     "data": {
      "text/plain": [
       "Ttest_relResult(statistic=5.198137375536318, pvalue=0.000565462106314492)"
      ]
     },
     "execution_count": 84,
     "metadata": {},
     "output_type": "execute_result"
    }
   ],
   "source": [
    "useable = get_subs_for_task('movie')\n",
    "awake_vals = get_all_similarity_values(useable, 'movie', '01')\n",
    "deep_vals = get_all_similarity_values(useable, 'movie', '03')\n",
    "stats.ttest_rel(awake_vals, \n",
    "                deep_vals)"
   ]
  },
  {
   "cell_type": "markdown",
   "id": "f7314619",
   "metadata": {},
   "source": [
    "# effect of task on btwn-subject connectome similarity"
   ]
  },
  {
   "cell_type": "markdown",
   "id": "95935ce3",
   "metadata": {},
   "source": [
    "## running paired t-tests comparing similarity values for movie vs rest"
   ]
  },
  {
   "cell_type": "markdown",
   "id": "f1833aff",
   "metadata": {},
   "source": [
    "### awake"
   ]
  },
  {
   "cell_type": "code",
   "execution_count": 85,
   "id": "eefdbc46",
   "metadata": {},
   "outputs": [
    {
     "name": "stdout",
     "output_type": "stream",
     "text": [
      "num_subs:  16\n"
     ]
    },
    {
     "data": {
      "text/plain": [
       "Ttest_relResult(statistic=9.917061569159697, pvalue=5.5749425951213816e-08)"
      ]
     },
     "execution_count": 85,
     "metadata": {},
     "output_type": "execute_result"
    }
   ],
   "source": [
    "subs = get_subs_for_level(1)\n",
    "print('num_subs: ', len(subs))\n",
    "\n",
    "rest_vals = get_all_similarity_values(subs, 'rest', '01')\n",
    "movie_vals = get_all_similarity_values(subs, 'movie', '01')\n",
    "\n",
    "stats.ttest_rel(rest_vals, \n",
    "                movie_vals)"
   ]
  },
  {
   "cell_type": "markdown",
   "id": "fa6f4158",
   "metadata": {},
   "source": [
    "### mild"
   ]
  },
  {
   "cell_type": "code",
   "execution_count": 86,
   "id": "f9f1edee",
   "metadata": {},
   "outputs": [
    {
     "name": "stdout",
     "output_type": "stream",
     "text": [
      "num_subs:  13\n"
     ]
    },
    {
     "data": {
      "text/plain": [
       "Ttest_relResult(statistic=1.1479991065969792, pvalue=0.2733402218061704)"
      ]
     },
     "execution_count": 86,
     "metadata": {},
     "output_type": "execute_result"
    }
   ],
   "source": [
    "subs = get_subs_for_level(2)\n",
    "print('num_subs: ', len(subs))\n",
    "\n",
    "rest_vals = get_all_similarity_values(subs, 'rest', '02')\n",
    "movie_vals = get_all_similarity_values(subs, 'movie', '02')\n",
    "\n",
    "stats.ttest_rel(rest_vals, \n",
    "                movie_vals)"
   ]
  },
  {
   "cell_type": "markdown",
   "id": "ca36ab92",
   "metadata": {},
   "source": [
    "### deep"
   ]
  },
  {
   "cell_type": "code",
   "execution_count": 87,
   "id": "a08687fb",
   "metadata": {},
   "outputs": [
    {
     "name": "stdout",
     "output_type": "stream",
     "text": [
      "num_subs:  8\n"
     ]
    },
    {
     "data": {
      "text/plain": [
       "Ttest_relResult(statistic=5.194078570315178, pvalue=0.0012611929067235905)"
      ]
     },
     "execution_count": 87,
     "metadata": {},
     "output_type": "execute_result"
    }
   ],
   "source": [
    "subs = get_subs_for_level(3)\n",
    "print('num_subs: ', len(subs))\n",
    "\n",
    "rest_vals = get_all_similarity_values(subs, 'rest', '03')\n",
    "movie_vals = get_all_similarity_values(subs, 'movie', '03')\n",
    "\n",
    "stats.ttest_rel(rest_vals, \n",
    "                movie_vals)"
   ]
  },
  {
   "cell_type": "markdown",
   "id": "31f0f7c3",
   "metadata": {},
   "source": [
    "### recovery"
   ]
  },
  {
   "cell_type": "code",
   "execution_count": 88,
   "id": "310ddc09",
   "metadata": {},
   "outputs": [
    {
     "name": "stdout",
     "output_type": "stream",
     "text": [
      "num_subs:  15\n"
     ]
    },
    {
     "data": {
      "text/plain": [
       "Ttest_relResult(statistic=5.499638973131075, pvalue=7.828048296554831e-05)"
      ]
     },
     "execution_count": 88,
     "metadata": {},
     "output_type": "execute_result"
    }
   ],
   "source": [
    "subs = get_subs_for_level(4)\n",
    "print('num_subs: ', len(subs))\n",
    "\n",
    "rest_vals = get_all_similarity_values(subs, 'rest', '04')\n",
    "movie_vals = get_all_similarity_values(subs, 'movie', '04')\n",
    "\n",
    "stats.ttest_rel(rest_vals, \n",
    "                movie_vals)"
   ]
  },
  {
   "cell_type": "code",
   "execution_count": null,
   "id": "6f00ae0d",
   "metadata": {},
   "outputs": [],
   "source": []
  },
  {
   "cell_type": "code",
   "execution_count": null,
   "id": "14cf49d8",
   "metadata": {},
   "outputs": [],
   "source": []
  },
  {
   "cell_type": "markdown",
   "id": "1d60bda6",
   "metadata": {},
   "source": [
    "# looking just at 6 with all sessions"
   ]
  },
  {
   "cell_type": "code",
   "execution_count": 12,
   "id": "032524f7",
   "metadata": {},
   "outputs": [
    {
     "data": {
      "text/plain": [
       "Ttest_relResult(statistic=8.774447487929601, pvalue=0.00031885262942570633)"
      ]
     },
     "execution_count": 12,
     "metadata": {},
     "output_type": "execute_result"
    }
   ],
   "source": [
    "six_subs = set(get_subs_for_level(1)) & set(get_subs_for_level(3)) & set(get_subs_for_level(2)) & set(get_subs_for_level(4)) \n",
    "awake_vals = get_all_similarity_values(six_subs, 'movie', '01')\n",
    "deep_vals = get_all_similarity_values(six_subs, 'movie', '03')\n",
    "stats.ttest_rel(awake_vals, \n",
    "                deep_vals)"
   ]
  },
  {
   "cell_type": "code",
   "execution_count": 13,
   "id": "dd640163",
   "metadata": {},
   "outputs": [
    {
     "data": {
      "text/plain": [
       "6"
      ]
     },
     "execution_count": 13,
     "metadata": {},
     "output_type": "execute_result"
    }
   ],
   "source": [
    "len(six_subs)"
   ]
  },
  {
   "cell_type": "code",
   "execution_count": null,
   "id": "28e0e5f8",
   "metadata": {},
   "outputs": [],
   "source": [
    "#   visual inspection reveals greater connectome similarity during rest than narrative listening"
   ]
  },
  {
   "cell_type": "code",
   "execution_count": 22,
   "id": "bbb0fca9",
   "metadata": {},
   "outputs": [],
   "source": [
    "def load_fc_wrapper(base_dir, sub, task, sedation):\n",
    "    path =  f'{base_dir}/{sub}_01_{task}_{sedation}_LPI_000.netcc'\n",
    "    return load_fc(path, \n",
    "                  subset=[0, 73], \n",
    "                  nodes_to_drop=nodes_to_drop)\n",
    "\n",
    "\n",
    "\n",
    "# within individuals?\n",
    "rest_sim_vals = []\n",
    "sub_sim_rest = []\n",
    "for sub in six_subs:\n",
    "    sub_sim = []\n",
    "    task = 'rest'\n",
    "    rest1 = load_fc_wrapper(base_dir, sub, task, '01')\n",
    "    rest2 = load_fc_wrapper(base_dir, sub, task, '02')\n",
    "    rest3 = load_fc_wrapper(base_dir, sub, task, '03')\n",
    "    rest4 = load_fc_wrapper(base_dir, sub, task, '04')\n",
    "    sub_sim.append(get_fc_corr(rest1, rest2))\n",
    "    sub_sim.append(get_fc_corr(rest1, rest3))\n",
    "    sub_sim.append(get_fc_corr(rest1, rest4))\n",
    "    sub_sim.append(get_fc_corr(rest2, rest3))\n",
    "    sub_sim.append(get_fc_corr(rest2, rest4))\n",
    "    sub_sim.append(get_fc_corr(rest3, rest4))\n",
    "    \n",
    "    avg = np.mean(sub_sim)\n",
    "    sub_sim_rest.append(sub_sim)\n",
    "    rest_sim_vals.append(avg)\n",
    "    "
   ]
  },
  {
   "cell_type": "code",
   "execution_count": 23,
   "id": "1286a82e",
   "metadata": {},
   "outputs": [],
   "source": [
    "movie_sim_vals = []\n",
    "sub_sim_movie = []\n",
    "\n",
    "for sub in six_subs:\n",
    "    sub_sim = []\n",
    "    task = 'movie'\n",
    "    rest1 = load_fc_wrapper(base_dir, sub, task, '01')\n",
    "    rest2 = load_fc_wrapper(base_dir, sub, task, '02')\n",
    "    rest3 = load_fc_wrapper(base_dir, sub, task, '03')\n",
    "    rest4 = load_fc_wrapper(base_dir, sub, task, '04')\n",
    "    sub_sim.append(get_fc_corr(rest1, rest2))\n",
    "    sub_sim.append(get_fc_corr(rest1, rest3))\n",
    "    sub_sim.append(get_fc_corr(rest1, rest4))\n",
    "    sub_sim.append(get_fc_corr(rest2, rest3))\n",
    "    sub_sim.append(get_fc_corr(rest2, rest4))\n",
    "    sub_sim.append(get_fc_corr(rest3, rest4))\n",
    "\n",
    "    sub_sim_movie.append(sub_sim)\n",
    "    avg = np.mean(sub_sim)\n",
    "    movie_sim_vals.append(avg)"
   ]
  },
  {
   "cell_type": "code",
   "execution_count": 21,
   "id": "4e0021a2",
   "metadata": {},
   "outputs": [
    {
     "data": {
      "text/plain": [
       "Ttest_relResult(statistic=2.922878331862509, pvalue=0.032903576852100075)"
      ]
     },
     "execution_count": 21,
     "metadata": {},
     "output_type": "execute_result"
    }
   ],
   "source": [
    "stats.ttest_rel(rest_sim_vals, \n",
    "                movie_sim_vals)"
   ]
  },
  {
   "cell_type": "code",
   "execution_count": 18,
   "id": "ad3aa39b",
   "metadata": {},
   "outputs": [
    {
     "data": {
      "text/plain": [
       "[0.32492814177819757,\n",
       " 0.4785813153744143,\n",
       " 0.35017028550217016,\n",
       " 0.4395309891301545,\n",
       " 0.3706314496219117,\n",
       " 0.3754456797447751]"
      ]
     },
     "execution_count": 18,
     "metadata": {},
     "output_type": "execute_result"
    }
   ],
   "source": [
    "rest_sim_vals"
   ]
  },
  {
   "cell_type": "code",
   "execution_count": 19,
   "id": "a112b337",
   "metadata": {},
   "outputs": [
    {
     "data": {
      "text/plain": [
       "[0.32492814177819757,\n",
       " 0.4785813153744143,\n",
       " 0.35017028550217016,\n",
       " 0.4395309891301545,\n",
       " 0.3706314496219117,\n",
       " 0.3754456797447751]"
      ]
     },
     "execution_count": 19,
     "metadata": {},
     "output_type": "execute_result"
    }
   ],
   "source": [
    "movie_sim_vals"
   ]
  },
  {
   "cell_type": "code",
   "execution_count": 29,
   "id": "3a389336",
   "metadata": {},
   "outputs": [
    {
     "name": "stdout",
     "output_type": "stream",
     "text": [
      "0.45474594557308834 0.302741401731973\n",
      "True\n",
      "0.4651179837720249 0.5186203763058962\n",
      "False\n",
      "0.46010994929117993 0.2763475626303176\n",
      "True\n",
      "0.5406860873751529 0.5498814358752779\n",
      "False\n",
      "0.4584487444989151 0.3192862366660432\n",
      "True\n",
      "0.5159481749404468 0.45102737445765756\n",
      "True\n"
     ]
    }
   ],
   "source": [
    "for sub in six_subs:\n",
    "    task = 'rest'\n",
    "    rest1 = load_fc_wrapper(base_dir, sub, task, '01')\n",
    "    rest2 = load_fc_wrapper(base_dir, sub, task, '02')\n",
    "    rest3 = load_fc_wrapper(base_dir, sub, task, '03')\n",
    "    rest4 = load_fc_wrapper(base_dir, sub, task, '04')\n",
    "    \n",
    "    low_corr = get_fc_corr(rest1, rest4)\n",
    "    high_corr = get_fc_corr(rest2, rest3)\n",
    "    \n",
    "    print(low_corr, high_corr)\n",
    "   \n",
    "    print(low_corr>high_corr)\n"
   ]
  },
  {
   "cell_type": "code",
   "execution_count": 30,
   "id": "4a833e78",
   "metadata": {},
   "outputs": [
    {
     "name": "stdout",
     "output_type": "stream",
     "text": [
      "0.43715890879294556 0.3020763038298372\n",
      "True\n",
      "0.39047492900491976 0.34073468402510243\n",
      "True\n",
      "0.29749427446960325 0.22638909663521717\n",
      "True\n",
      "0.3994824821180246 0.3822609836643371\n",
      "True\n",
      "0.36060142857992433 0.26171275497503976\n",
      "True\n",
      "0.3313009064760447 0.4301728980460402\n",
      "False\n"
     ]
    }
   ],
   "source": [
    "for sub in six_subs:\n",
    "    task = 'movie'\n",
    "    rest1 = load_fc_wrapper(base_dir, sub, task, '01')\n",
    "    rest2 = load_fc_wrapper(base_dir, sub, task, '02')\n",
    "    rest3 = load_fc_wrapper(base_dir, sub, task, '03')\n",
    "    rest4 = load_fc_wrapper(base_dir, sub, task, '04')\n",
    "    \n",
    "    low_corr = get_fc_corr(rest1, rest4)\n",
    "    high_corr = get_fc_corr(rest2, rest3)\n",
    "    \n",
    "    print(low_corr, high_corr)\n",
    "   \n",
    "    print(low_corr>high_corr)\n"
   ]
  }
 ],
 "metadata": {
  "kernelspec": {
   "display_name": "Python 3 (ipykernel)",
   "language": "python",
   "name": "python3"
  },
  "language_info": {
   "codemirror_mode": {
    "name": "ipython",
    "version": 3
   },
   "file_extension": ".py",
   "mimetype": "text/x-python",
   "name": "python",
   "nbconvert_exporter": "python",
   "pygments_lexer": "ipython3",
   "version": "3.9.7"
  }
 },
 "nbformat": 4,
 "nbformat_minor": 5
}
